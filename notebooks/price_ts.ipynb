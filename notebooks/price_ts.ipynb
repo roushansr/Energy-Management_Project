{
 "cells": [
  {
   "cell_type": "code",
   "execution_count": 14,
   "id": "0e4ce933",
   "metadata": {},
   "outputs": [],
   "source": [
    "import pandas as pd\n",
    "\n",
    "# List of your file names\n",
    "file_paths = [\n",
    "    \"D:/Coding/Energy-Management_Project/data/energy-2016.csv\",\n",
    "    \"D:/Coding/Energy-Management_Project/data/energy-2017.csv\",\n",
    "    \"D:/Coding/Energy-Management_Project/data/energy-2018.csv\",\n",
    "    \"D:/Coding/Energy-Management_Project/data/energy-2019.csv\",\n",
    "    \"D:/Coding/Energy-Management_Project/data/energy-2020.csv\"\n",
    "]"
   ]
  },
  {
   "cell_type": "code",
   "execution_count": 15,
   "id": "4145ac13",
   "metadata": {},
   "outputs": [
    {
     "name": "stderr",
     "output_type": "stream",
     "text": [
      "C:\\Users\\rrous\\AppData\\Local\\Temp\\ipykernel_48444\\1242212607.py:11: FutureWarning: In a future version of pandas, parsing datetimes with mixed time zones will raise an error unless `utc=True`. Please specify `utc=True` to opt in to the new behaviour and silence this warning. To create a `Series` with mixed offsets and `object` dtype, please use `apply` and `datetime.datetime.strptime`\n",
      "  df_price_combined['Date'] = pd.to_datetime(df_price_combined['Date'])\n"
     ]
    }
   ],
   "source": [
    "# Columns to keep\n",
    "use_columns = [\"Date\", \"Price\"]\n",
    "\n",
    "# Read the files\n",
    "df_list = [pd.read_csv(file, usecols=use_columns, encoding=\"utf-8-sig\") for file in file_paths]\n",
    "\n",
    "# Combine all into one DataFrame\n",
    "df_price_combined = pd.concat(df_list, ignore_index=True)\n",
    "\n",
    "# Convert date to datetime format\n",
    "df_price_combined['Date'] = pd.to_datetime(df_price_combined['Date'])\n",
    "\n",
    "# Sort by Date\n",
    "df_price_combined = df_price_combined.sort_values('Date').reset_index(drop=True)\n",
    "\n",
    "# Optionally rename columns for consistency\n",
    "df_price_combined.rename(columns={'Date': 'timestamp', 'Price': 'price'}, inplace=True)\n"
   ]
  },
  {
   "cell_type": "code",
   "execution_count": 16,
   "id": "4f27c34f",
   "metadata": {},
   "outputs": [
    {
     "name": "stdout",
     "output_type": "stream",
     "text": [
      "                   timestamp  price\n",
      "0  2016-01-01 00:00:00+01:00  23.86\n",
      "1  2016-01-01 01:00:00+01:00  22.39\n",
      "2  2016-01-01 02:00:00+01:00  20.59\n",
      "3  2016-01-01 03:00:00+01:00  16.81\n",
      "4  2016-01-01 04:00:00+01:00  17.41\n"
     ]
    }
   ],
   "source": [
    "# Save to CSV (optional)\n",
    "df_price_combined.to_csv(\"price_all_years_filtered.csv\", index=False)\n",
    "\n",
    "# Optional: Preview\n",
    "print(df_price_combined.head())"
   ]
  },
  {
   "cell_type": "code",
   "execution_count": null,
   "id": "88e219f1",
   "metadata": {},
   "outputs": [],
   "source": []
  }
 ],
 "metadata": {
  "kernelspec": {
   "display_name": "elec",
   "language": "python",
   "name": "python3"
  },
  "language_info": {
   "codemirror_mode": {
    "name": "ipython",
    "version": 3
   },
   "file_extension": ".py",
   "mimetype": "text/x-python",
   "name": "python",
   "nbconvert_exporter": "python",
   "pygments_lexer": "ipython3",
   "version": "3.10.7"
  }
 },
 "nbformat": 4,
 "nbformat_minor": 5
}
