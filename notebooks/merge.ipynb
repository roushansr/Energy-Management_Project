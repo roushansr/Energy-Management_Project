{
 "cells": [
  {
   "cell_type": "code",
   "execution_count": null,
   "id": "19a2c312",
   "metadata": {},
   "outputs": [],
   "source": [
    "import pandas as pd\n",
    "\n",
    "df_de_cleaned = pd.read_csv(\"df_de_cleaned.csv\")\n",
    "df_price = pd.read_csv(\"price_all_years_filtered.csv\")"
   ]
  },
  {
   "cell_type": "code",
   "execution_count": null,
   "id": "6a1e4287",
   "metadata": {},
   "outputs": [
    {
     "name": "stdout",
     "output_type": "stream",
     "text": [
      "Index(['utc_timestamp', 'DE_load_actual_entsoe_transparency',\n",
      "       'DE_load_forecast_entsoe_transparency', 'DE_solar_capacity',\n",
      "       'DE_solar_generation_actual', 'DE_solar_profile', 'DE_wind_capacity',\n",
      "       'DE_wind_generation_actual', 'DE_wind_profile',\n",
      "       'DE_wind_offshore_capacity', 'DE_wind_offshore_generation_actual',\n",
      "       'DE_wind_offshore_profile', 'DE_wind_onshore_capacity',\n",
      "       'DE_wind_onshore_generation_actual', 'DE_wind_onshore_profile',\n",
      "       'DE_50hertz_load_actual_entsoe_transparency',\n",
      "       'DE_50hertz_load_forecast_entsoe_transparency',\n",
      "       'DE_50hertz_solar_generation_actual',\n",
      "       'DE_50hertz_wind_generation_actual',\n",
      "       'DE_50hertz_wind_offshore_generation_actual',\n",
      "       'DE_50hertz_wind_onshore_generation_actual',\n",
      "       'DE_amprion_load_actual_entsoe_transparency',\n",
      "       'DE_amprion_load_forecast_entsoe_transparency',\n",
      "       'DE_amprion_solar_generation_actual',\n",
      "       'DE_amprion_wind_onshore_generation_actual',\n",
      "       'DE_tennet_load_actual_entsoe_transparency',\n",
      "       'DE_tennet_load_forecast_entsoe_transparency',\n",
      "       'DE_tennet_solar_generation_actual', 'DE_tennet_wind_generation_actual',\n",
      "       'DE_tennet_wind_offshore_generation_actual',\n",
      "       'DE_tennet_wind_onshore_generation_actual',\n",
      "       'DE_transnetbw_load_actual_entsoe_transparency',\n",
      "       'DE_transnetbw_load_forecast_entsoe_transparency',\n",
      "       'DE_transnetbw_solar_generation_actual',\n",
      "       'DE_transnetbw_wind_onshore_generation_actual'],\n",
      "      dtype='object')\n",
      "Index(['timestamp', 'price'], dtype='object')\n"
     ]
    }
   ],
   "source": [
    "print(df_de_cleaned.columns)\n",
    "print(df_price.columns)"
   ]
  },
  {
   "cell_type": "code",
   "execution_count": 18,
   "id": "02a1ead4",
   "metadata": {},
   "outputs": [
    {
     "name": "stdout",
     "output_type": "stream",
     "text": [
      "object\n",
      "object\n"
     ]
    }
   ],
   "source": [
    "print(df_de_cleaned['utc_timestamp'].dtype)\n",
    "print(df_price['timestamp'].dtype)\n"
   ]
  },
  {
   "cell_type": "code",
   "execution_count": 20,
   "id": "f889b064",
   "metadata": {},
   "outputs": [
    {
     "name": "stderr",
     "output_type": "stream",
     "text": [
      "C:\\Users\\rrous\\AppData\\Local\\Temp\\ipykernel_17904\\1974674425.py:1: FutureWarning: In a future version of pandas, parsing datetimes with mixed time zones will raise an error unless `utc=True`. Please specify `utc=True` to opt in to the new behaviour and silence this warning. To create a `Series` with mixed offsets and `object` dtype, please use `apply` and `datetime.datetime.strptime`\n",
      "  df_de_cleaned['utc_timestamp'] = pd.to_datetime(df_de_cleaned['utc_timestamp'], errors='coerce')\n"
     ]
    }
   ],
   "source": [
    "df_de_cleaned['utc_timestamp'] = pd.to_datetime(df_de_cleaned['utc_timestamp'], errors='coerce')\n"
   ]
  },
  {
   "cell_type": "code",
   "execution_count": 22,
   "id": "9e2c74dd",
   "metadata": {},
   "outputs": [
    {
     "name": "stdout",
     "output_type": "stream",
     "text": [
      "datetime64[ns]\n"
     ]
    }
   ],
   "source": [
    "print(df_de_cleaned['utc_timestamp'].dtype)\n"
   ]
  },
  {
   "cell_type": "code",
   "execution_count": 23,
   "id": "9f083378",
   "metadata": {},
   "outputs": [],
   "source": [
    "df_de_cleaned['utc_timestamp'] = df_de_cleaned['utc_timestamp'].dt.tz_localize(None)\n"
   ]
  },
  {
   "cell_type": "code",
   "execution_count": 24,
   "id": "ef40007e",
   "metadata": {},
   "outputs": [
    {
     "name": "stdout",
     "output_type": "stream",
     "text": [
      "datetime64[ns]\n",
      "object\n"
     ]
    }
   ],
   "source": [
    "print(df_de_cleaned['utc_timestamp'].dtype)\n",
    "print(df_price['timestamp'].dtype)\n"
   ]
  },
  {
   "cell_type": "code",
   "execution_count": 29,
   "id": "a53f4e4c",
   "metadata": {},
   "outputs": [
    {
     "name": "stdout",
     "output_type": "stream",
     "text": [
      "datetime64[ns, UTC+01:00]\n",
      "0   2015-12-31 23:00:00\n",
      "1   2016-01-01 00:00:00\n",
      "2   2016-01-01 01:00:00\n",
      "3   2016-01-01 02:00:00\n",
      "4   2016-01-01 03:00:00\n",
      "Name: timestamp, dtype: datetime64[ns]\n",
      "datetime64[ns]\n"
     ]
    }
   ],
   "source": [
    "df_price['timestamp'] = pd.to_datetime(df_price['timestamp'], errors='coerce')\n",
    "print(df_price['timestamp'].dtype)  # you already confirmed it's datetime64[ns, UTC+01:00]\n",
    "\n",
    "# Remove timezone info (make naive datetime)\n",
    "df_price['timestamp'] = df_price['timestamp'].dt.tz_convert(None)\n",
    "\n",
    "print(df_price['timestamp'].head())\n",
    "print(df_price['timestamp'].dtype)  # should be datetime64[ns]\n"
   ]
  },
  {
   "cell_type": "code",
   "execution_count": 30,
   "id": "baa6a877",
   "metadata": {},
   "outputs": [
    {
     "name": "stdout",
     "output_type": "stream",
     "text": [
      "datetime64[ns]\n",
      "datetime64[ns]\n"
     ]
    }
   ],
   "source": [
    "print(df_de_cleaned['utc_timestamp'].dtype)\n",
    "print(df_price['timestamp'].dtype)\n"
   ]
  },
  {
   "cell_type": "markdown",
   "id": "6faa1cfc",
   "metadata": {},
   "source": [
    "## Both are now same datatypes"
   ]
  },
  {
   "cell_type": "code",
   "execution_count": 32,
   "id": "0794c14f",
   "metadata": {},
   "outputs": [
    {
     "name": "stdout",
     "output_type": "stream",
     "text": [
      "Duplicates in df_de_cleaned utc_timestamp: 120667\n",
      "Duplicates in df_price timestamp: 25708\n"
     ]
    }
   ],
   "source": [
    "print(\"Duplicates in df_de_cleaned utc_timestamp:\", df_de_cleaned['utc_timestamp'].duplicated().sum())\n",
    "print(\"Duplicates in df_price timestamp:\", df_price['timestamp'].duplicated().sum())\n"
   ]
  },
  {
   "cell_type": "code",
   "execution_count": null,
   "id": "c779c40f",
   "metadata": {},
   "outputs": [],
   "source": []
  }
 ],
 "metadata": {
  "kernelspec": {
   "display_name": "elec",
   "language": "python",
   "name": "python3"
  },
  "language_info": {
   "codemirror_mode": {
    "name": "ipython",
    "version": 3
   },
   "file_extension": ".py",
   "mimetype": "text/x-python",
   "name": "python",
   "nbconvert_exporter": "python",
   "pygments_lexer": "ipython3",
   "version": "3.10.7"
  }
 },
 "nbformat": 4,
 "nbformat_minor": 5
}
